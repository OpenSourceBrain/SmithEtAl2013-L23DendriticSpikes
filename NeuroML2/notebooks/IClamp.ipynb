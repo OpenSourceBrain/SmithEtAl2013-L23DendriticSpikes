{
 "cells": [
  {
   "cell_type": "code",
   "execution_count": 1,
   "metadata": {},
   "outputs": [
    {
     "name": "stdout",
     "output_type": "stream",
     "text": [
      "{\n",
      "    \"IClamp\": {\n",
      "        \"version\": \"NeuroMLlite v0.2.1\",\n",
      "        \"parameters\": {\n",
      "            \"input_amp\": 0.3\n",
      "        },\n",
      "        \"notes\": \"Current clamp input\",\n",
      "        \"cells\": [\n",
      "            {\n",
      "                \"L23_NoHotSpot\": {\n",
      "                    \"neuroml2_source_file\": \"../L23_NoHotSpot.cell.nml\"\n",
      "                }\n",
      "            }\n",
      "        ],\n",
      "        \"input_sources\": [\n",
      "            {\n",
      "                \"i_clamp\": {\n",
      "                    \"pynn_input\": \"DCSource\",\n",
      "                    \"parameters\": {\n",
      "                        \"amplitude\": \"input_amp\",\n",
      "                        \"start\": 100,\n",
      "                        \"stop\": 800\n",
      "                    }\n",
      "                }\n",
      "            }\n",
      "        ],\n",
      "        \"regions\": [\n",
      "            {\n",
      "                \"region1\": {\n",
      "                    \"x\": 0.0,\n",
      "                    \"y\": 0.0,\n",
      "                    \"z\": 0.0,\n",
      "                    \"width\": 1000.0,\n",
      "                    \"height\": 100.0,\n",
      "                    \"depth\": 1000.0\n",
      "                }\n",
      "            }\n",
      "        ],\n",
      "        \"populations\": [\n",
      "            {\n",
      "                \"pop0\": {\n",
      "                    \"size\": 1,\n",
      "                    \"component\": \"L23_NoHotSpot\",\n",
      "                    \"properties\": {\n",
      "                        \"color\": \"1 0 0\"\n",
      "                    },\n",
      "                    \"random_layout\": {\n",
      "                        \"region\": \"region1\"\n",
      "                    }\n",
      "                }\n",
      "            }\n",
      "        ],\n",
      "        \"inputs\": [\n",
      "            {\n",
      "                \"stim\": {\n",
      "                    \"input_source\": \"i_clamp\",\n",
      "                    \"population\": \"pop0\",\n",
      "                    \"percentage\": 100.0\n",
      "                }\n",
      "            }\n",
      "        ]\n",
      "    }\n",
      "}\n",
      "neuromllite >>> Written NeuroMLlite Network to: IClamp.json\n",
      "neuromllite >>> Written NeuroMLlite Simulation to: SimIClamp.json\n"
     ]
    },
    {
     "data": {
      "text/plain": [
       "'SimIClamp.json'"
      ]
     },
     "execution_count": 1,
     "metadata": {},
     "output_type": "execute_result"
    }
   ],
   "source": [
    "from neuromllite import Network, Cell, InputSource, Population, Synapse, RectangularRegion, RandomLayout \n",
    "from neuromllite import Projection, RandomConnectivity, Input, Simulation\n",
    "\n",
    "net = Network(id='IClamp')\n",
    "net.notes = 'Current clamp input'\n",
    "net.parameters = { 'input_amp':       0.3} \n",
    "\n",
    "cell = Cell(id='L23_NoHotSpot', neuroml2_source_file='../L23_NoHotSpot.cell.nml')\n",
    "net.cells.append(cell)\n",
    "\n",
    "input_source = InputSource(id='i_clamp', \n",
    "                           pynn_input='DCSource', \n",
    "                           parameters={'amplitude':'input_amp', 'start':100, 'stop':800})\n",
    "\n",
    "net.input_sources.append(input_source)\n",
    "\n",
    "r1 = RectangularRegion(id='region1', x=0,y=0,z=0,width=1000,height=100,depth=1000)\n",
    "net.regions.append(r1)\n",
    "\n",
    "p0 = Population(id='pop0', size=1, component=cell.id, properties={'color':'1 0 0'},random_layout = RandomLayout(region=r1.id))\n",
    "\n",
    "net.populations.append(p0)\n",
    "\n",
    "net.inputs.append(Input(id='stim',\n",
    "                        input_source=input_source.id,\n",
    "                        population=p0.id,\n",
    "                        percentage=100))\n",
    "\n",
    "print(net.to_json())\n",
    "new_file = net.to_json_file('%s.json'%net.id)\n",
    "\n",
    "sim = Simulation(id='Sim%s'%net.id,\n",
    "                 network=new_file,\n",
    "                 duration='1000',\n",
    "                 dt='0.025',\n",
    "                 recordTraces={'all':'*'},\n",
    "                 recordSpikes={'pop0':'*'})\n",
    "                 \n",
    "sim.to_json_file()"
   ]
  },
  {
   "cell_type": "code",
   "execution_count": 2,
   "metadata": {},
   "outputs": [
    {
     "name": "stdout",
     "output_type": "stream",
     "text": [
      "neuromllite >>> Loaded network specification from IClamp.json\n",
      "neuromllite >>> Generating network IClamp and running in simulator: jNeuroML_NEURON...\n",
      "neuromllite >>> Generating NeuroML2 for IClamp...\n",
      "neuromllite >>> Starting net generation for IClamp...\n"
     ]
    },
    {
     "name": "stderr",
     "output_type": "stream",
     "text": [
      "INFO:numexpr.utils:NumExpr defaulting to 8 threads.\n"
     ]
    },
    {
     "name": "stdout",
     "output_type": "stream",
     "text": [
      "libNeuroML >>> Id i_clamp not found in <neuroml> element. All ids: ['IClamp', 'L23_NoHotSpot']\n",
      "libNeuroML >>> Id L23_NoHotSpot not found in <neuroml> element. All ids: ['IClamp']\n",
      "neuromllite >>> *******************************************************\n",
      "neuromllite >>> * NeuroMLDocument: IClamp\n",
      "neuromllite >>> *\n",
      "neuromllite >>> *   IncludeType: ['../L23_NoHotSpot.cell.nml']\n",
      "neuromllite >>> *   PulseGenerator: ['i_clamp']\n",
      "neuromllite >>> *\n",
      "neuromllite >>> *  Network: IClamp\n",
      "neuromllite >>> *\n",
      "neuromllite >>> *   1 cells in 1 populations \n",
      "neuromllite >>> *     Population: pop0 with 1 components of type L23_NoHotSpot\n",
      "neuromllite >>> *       Locations: [(966.4535, 44.0733, 7.4915), ...]\n",
      "neuromllite >>> *       Properties: color=1 0 0; region=region1; \n",
      "neuromllite >>> *\n",
      "neuromllite >>> *   0 connections in 0 projections \n",
      "neuromllite >>> *\n",
      "neuromllite >>> *   1 inputs in 1 input lists \n",
      "neuromllite >>> *     Input list: stim to pop0, component i_clamp\n",
      "neuromllite >>> *       1 inputs: [(Input 0: 0:0(0.500000)), ...]\n",
      "neuromllite >>> *\n",
      "neuromllite >>> *******************************************************\n",
      "neuromllite >>> Written NeuroML to IClamp.net.nml\n",
      "neuromllite >>> Generating LEMS file prior to running in jNeuroML_NEURON\n",
      "pyNeuroML >>> Creating LEMS file at: ./LEMS_SimIClamp.xml for NeuroML 2 file: IClamp.net.nml (copy: True)\n",
      "pyNeuroML >>> Copying a NeuroML file (IClamp.net.nml) to: . (abs path: /Users/padraig/neuroConstruct/osb/cerebral_cortex/neocortical_pyramidal_neuron/SmithEtAl2013-L23DendriticSpikes/NeuroML2/notebooks)\n",
      "pyNeuroML >>> No need, same file...\n",
      "pyNeuroML >>>  - Including ../L23_NoHotSpot.cell.nml (located at ../L23_NoHotSpot.cell.nml; nml dir: .), copying to .\n",
      "pyNeuroML >>> No need to copy, file exists: ./../L23_NoHotSpot.cell.nml...\n",
      "pyNeuroML >>>  -- Including ca.channel.nml located at ../ca.channel.nml\n",
      "pyNeuroML >>>  -- Including it.channel.nml located at ../it.channel.nml\n",
      "pyNeuroML >>>  -- Including kca.channel.nml located at ../kca.channel.nml\n",
      "pyNeuroML >>>  -- Including km.channel.nml located at ../km.channel.nml\n",
      "pyNeuroML >>>  -- Including kv.channel.nml located at ../kv.channel.nml\n",
      "pyNeuroML >>>  -- Including na.channel.nml located at ../na.channel.nml\n",
      "pyNeuroML >>>  -- Including pas.channel.nml located at ../pas.channel.nml\n",
      "pyNeuroML >>> Written LEMS Simulation SimIClamp to file: ./LEMS_SimIClamp.xml\n",
      "pyNeuroML >>> Reloading data specified in LEMS file: LEMS_SimIClamp.xml (/Users/padraig/neuroConstruct/osb/cerebral_cortex/neocortical_pyramidal_neuron/SmithEtAl2013-L23DendriticSpikes/NeuroML2/notebooks/LEMS_SimIClamp.xml), base_dir: ., cwd: /Users/padraig/neuroConstruct/osb/cerebral_cortex/neocortical_pyramidal_neuron/SmithEtAl2013-L23DendriticSpikes/NeuroML2/notebooks\n",
      "pyNeuroML >>> Loading saved events from ./SimIClamp.pop0.spikes (format: ID_TIME)\n",
      "neuromllite >>> Finished running LEMS file LEMS_SimIClamp.xml in jNeuroML_NEURON (pyNeuroML v0.5.6 containing jNeuroML v0.10.0; returning results: True)\n",
      "neuromllite >>> Returning 2 traces:\n",
      "neuromllite >>>   pop0/0/L23_NoHotSpot/v (<class 'list'>): -0.075 -> -0.07501396 (min: -0.07510166, max: 0.04355157, len: 40001)\n",
      "neuromllite >>>   t (<class 'list'>): 0.0 -> 1.0 (min: 0.0, max: 1.0, len: 40001)\n",
      "neuromllite >>> Returning 1 events:\n",
      "neuromllite >>>   pop0/0/L23_NoHotSpot: 0.13575000000011345 -> 0.13575000000011345 (len: 1)\n"
     ]
    }
   ],
   "source": [
    "from neuromllite.NetworkGenerator import generate_and_run\n",
    "traces, events = generate_and_run(sim, simulator='jNeuroML_NEURON', return_results =True)"
   ]
  },
  {
   "cell_type": "code",
   "execution_count": 3,
   "metadata": {},
   "outputs": [
    {
     "data": {
      "text/plain": [
       "[<matplotlib.lines.Line2D at 0x7ff319c77290>]"
      ]
     },
     "execution_count": 3,
     "metadata": {},
     "output_type": "execute_result"
    },
    {
     "data": {
      "image/png": "[encoded data removed]",
      "text/plain": [
       "<Figure size 432x288 with 1 Axes>"
      ]
     },
     "metadata": {
      "needs_background": "light"
     },
     "output_type": "display_data"
    }
   ],
   "source": [
    "\n",
    "import matplotlib.pyplot as plt\n",
    "plt.plot(traces['t'],traces['pop0/0/L23_NoHotSpot/v'])"
   ]
  },
  {
   "cell_type": "code",
   "execution_count": null,
   "metadata": {},
   "outputs": [],
   "source": []
  }
 ],
 "metadata": {
  "kernelspec": {
   "display_name": "Python 3",
   "language": "python",
   "name": "python3"
  },
  "language_info": {
   "codemirror_mode": {
    "name": "ipython",
    "version": 3
   },
   "file_extension": ".py",
   "mimetype": "text/x-python",
   "name": "python",
   "nbconvert_exporter": "python",
   "pygments_lexer": "ipython3",
   "version": "3.7.7"
  }
 },
 "nbformat": 4,
 "nbformat_minor": 4
}
